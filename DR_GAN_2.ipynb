{
  "nbformat": 4,
  "nbformat_minor": 0,
  "metadata": {
    "colab": {
      "name": "DR-GAN 2.ipynb",
      "provenance": [],
      "mount_file_id": "150lAV_iZ3e0g_kl08ejVKgLiNaYF_n_U",
      "authorship_tag": "ABX9TyM3EjPtFIWbeE7Lx3GXi0E9",
      "include_colab_link": true
    },
    "kernelspec": {
      "name": "python3",
      "display_name": "Python 3"
    },
    "language_info": {
      "name": "python"
    }
  },
  "cells": [
    {
      "cell_type": "markdown",
      "metadata": {
        "id": "view-in-github",
        "colab_type": "text"
      },
      "source": [
        "<a href=\"https://colab.research.google.com/github/nandkishore1/DR_GAN/blob/master/DR_GAN_2.ipynb\" target=\"_parent\"><img src=\"https://colab.research.google.com/assets/colab-badge.svg\" alt=\"Open In Colab\"/></a>"
      ]
    },
    {
      "cell_type": "code",
      "metadata": {
        "id": "ROebboWMCZY5",
        "colab": {
          "base_uri": "https://localhost:8080/"
        },
        "outputId": "572c5e64-1ebb-43f4-e13a-630ec06b67f2"
      },
      "source": [
        "from google.colab import drive\n",
        "drive.mount('/content/drive')"
      ],
      "execution_count": 5,
      "outputs": [
        {
          "output_type": "stream",
          "text": [
            "Drive already mounted at /content/drive; to attempt to forcibly remount, call drive.mount(\"/content/drive\", force_remount=True).\n"
          ],
          "name": "stdout"
        }
      ]
    },
    {
      "cell_type": "code",
      "metadata": {
        "colab": {
          "base_uri": "https://localhost:8080/"
        },
        "id": "JsZIr6mFLNkT",
        "outputId": "aeb06521-c307-419f-acf5-0c2619a3f642"
      },
      "source": [
        "pip install torch==1.0.0 torchvision==0.2.1"
      ],
      "execution_count": 1,
      "outputs": [
        {
          "output_type": "stream",
          "text": [
            "Collecting torch==1.0.0\n",
            "  Downloading torch-1.0.0-cp37-cp37m-manylinux1_x86_64.whl (591.8 MB)\n",
            "\u001b[K     |████████████████████████████████| 591.8 MB 546 bytes/s \n",
            "\u001b[?25hCollecting torchvision==0.2.1\n",
            "  Downloading torchvision-0.2.1-py2.py3-none-any.whl (54 kB)\n",
            "\u001b[K     |████████████████████████████████| 54 kB 1.7 MB/s \n",
            "\u001b[?25hRequirement already satisfied: numpy in /usr/local/lib/python3.7/dist-packages (from torchvision==0.2.1) (1.19.5)\n",
            "Requirement already satisfied: six in /usr/local/lib/python3.7/dist-packages (from torchvision==0.2.1) (1.15.0)\n",
            "Requirement already satisfied: pillow>=4.1.1 in /usr/local/lib/python3.7/dist-packages (from torchvision==0.2.1) (7.1.2)\n",
            "Installing collected packages: torch, torchvision\n",
            "  Attempting uninstall: torch\n",
            "    Found existing installation: torch 1.9.0+cu102\n",
            "    Uninstalling torch-1.9.0+cu102:\n",
            "      Successfully uninstalled torch-1.9.0+cu102\n",
            "  Attempting uninstall: torchvision\n",
            "    Found existing installation: torchvision 0.10.0+cu102\n",
            "    Uninstalling torchvision-0.10.0+cu102:\n",
            "      Successfully uninstalled torchvision-0.10.0+cu102\n",
            "\u001b[31mERROR: pip's dependency resolver does not currently take into account all the packages that are installed. This behaviour is the source of the following dependency conflicts.\n",
            "torchtext 0.10.0 requires torch==1.9.0, but you have torch 1.0.0 which is incompatible.\u001b[0m\n",
            "Successfully installed torch-1.0.0 torchvision-0.2.1\n"
          ],
          "name": "stdout"
        }
      ]
    },
    {
      "cell_type": "code",
      "metadata": {
        "colab": {
          "base_uri": "https://localhost:8080/"
        },
        "id": "UNUiRDPbLPSq",
        "outputId": "5b5bede1-11f9-462a-cd8c-0aa37c665557"
      },
      "source": [
        "pip install tensorboardX"
      ],
      "execution_count": 2,
      "outputs": [
        {
          "output_type": "stream",
          "text": [
            "Collecting tensorboardX\n",
            "  Downloading tensorboardX-2.4-py2.py3-none-any.whl (124 kB)\n",
            "\u001b[?25l\r\u001b[K     |██▋                             | 10 kB 19.3 MB/s eta 0:00:01\r\u001b[K     |█████▎                          | 20 kB 9.8 MB/s eta 0:00:01\r\u001b[K     |████████                        | 30 kB 8.1 MB/s eta 0:00:01\r\u001b[K     |██████████▌                     | 40 kB 7.5 MB/s eta 0:00:01\r\u001b[K     |█████████████▏                  | 51 kB 4.1 MB/s eta 0:00:01\r\u001b[K     |███████████████▉                | 61 kB 4.4 MB/s eta 0:00:01\r\u001b[K     |██████████████████▍             | 71 kB 4.5 MB/s eta 0:00:01\r\u001b[K     |█████████████████████           | 81 kB 5.0 MB/s eta 0:00:01\r\u001b[K     |███████████████████████▊        | 92 kB 3.8 MB/s eta 0:00:01\r\u001b[K     |██████████████████████████▎     | 102 kB 4.0 MB/s eta 0:00:01\r\u001b[K     |█████████████████████████████   | 112 kB 4.0 MB/s eta 0:00:01\r\u001b[K     |███████████████████████████████▋| 122 kB 4.0 MB/s eta 0:00:01\r\u001b[K     |████████████████████████████████| 124 kB 4.0 MB/s \n",
            "\u001b[?25hRequirement already satisfied: numpy in /usr/local/lib/python3.7/dist-packages (from tensorboardX) (1.19.5)\n",
            "Requirement already satisfied: protobuf>=3.8.0 in /usr/local/lib/python3.7/dist-packages (from tensorboardX) (3.17.3)\n",
            "Requirement already satisfied: six>=1.9 in /usr/local/lib/python3.7/dist-packages (from protobuf>=3.8.0->tensorboardX) (1.15.0)\n",
            "Installing collected packages: tensorboardX\n",
            "Successfully installed tensorboardX-2.4\n"
          ],
          "name": "stdout"
        }
      ]
    },
    {
      "cell_type": "code",
      "metadata": {
        "colab": {
          "base_uri": "https://localhost:8080/"
        },
        "id": "CBiXdg8TLReV",
        "outputId": "f6ded7e9-52ff-4af3-b2b5-e4be456854e7"
      },
      "source": [
        "cd /content/drive/MyDrive/DR-GAN-by-pytorch"
      ],
      "execution_count": 6,
      "outputs": [
        {
          "output_type": "stream",
          "text": [
            "/content/drive/MyDrive/DR-GAN-by-pytorch\n"
          ],
          "name": "stdout"
        }
      ]
    },
    {
      "cell_type": "code",
      "metadata": {
        "colab": {
          "base_uri": "https://localhost:8080/"
        },
        "id": "oqiD72Y8ZKTg",
        "outputId": "d6107cfc-e322-422e-9da7-f6b4bcebd9a0"
      },
      "source": [
        "!python train.py"
      ],
      "execution_count": 8,
      "outputs": [
        {
          "output_type": "stream",
          "text": [
            "-----------------Options----------------\n",
            "D_interval: 20\n",
            "N_d: 450\n",
            "N_p: 2\n",
            "N_z: 50\n",
            "batchsize: 3\n",
            "beta1: 0.5\n",
            "beta2: 0.999\n",
            "checkpoints_dir: ./checkpoints/2021-08-05_06-22-09\n",
            "count_epoch: 0\n",
            "dataroot: cfp-dataset/Data/Images\n",
            "epochs: 10000\n",
            "gpu_ids: [0]\n",
            "input_nc: 3\n",
            "is_Train: True\n",
            "lr_D: 0.0002\n",
            "lr_G: 0.0002\n",
            "model: multi\n",
            "output_nc: 3\n",
            "pretrained_D: None\n",
            "pretrained_G: None\n",
            "save_epoch_freq: 5\n",
            "test_dir: ./result/2021-08-05_06-22-09\n",
            "w_L1: 1\n",
            "-------------------End-------------------\n",
            "/usr/local/lib/python3.7/dist-packages/torchvision/transforms/transforms.py:187: UserWarning: The use of the transforms.Scale transform is deprecated, please use transforms.Resize instead.\n",
            "  warnings.warn(\"The use of the transforms.Scale transform is deprecated, \" +\n",
            "model Multi_DRGAN was created\n",
            "Traceback (most recent call last):\n",
            "  File \"train.py\", line 19, in <module>\n",
            "    err = err(model.save_dir)\n",
            "  File \"util/utils.py\", line 15, in __init__\n",
            "    os.mknod(self.path)\n",
            "OSError: [Errno 38] Function not implemented\n"
          ],
          "name": "stdout"
        }
      ]
    },
    {
      "cell_type": "code",
      "metadata": {
        "id": "ykTCfBp2ZOpr"
      },
      "source": [
        ""
      ],
      "execution_count": null,
      "outputs": []
    }
  ]
}